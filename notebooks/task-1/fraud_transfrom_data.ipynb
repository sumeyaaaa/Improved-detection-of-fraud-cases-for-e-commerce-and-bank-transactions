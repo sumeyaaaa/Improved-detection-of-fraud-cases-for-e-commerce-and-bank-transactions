{
 "cells": [
  {
   "cell_type": "code",
   "execution_count": 2,
   "id": "c30153c8",
   "metadata": {},
   "outputs": [],
   "source": [
    "import sys\n",
    "import os\n",
    "\n",
    "# Navigate up two levels from notebook to get to project root\n",
    "notebook_dir = os.path.dirname(os.path.abspath(\"__file__\"))\n",
    "src_path = os.path.abspath(os.path.join(notebook_dir, \"../../src\"))\n",
    "\n",
    "if src_path not in sys.path:\n",
    "    sys.path.append(src_path)\n",
    "\n"
   ]
  },
  {
   "cell_type": "code",
   "execution_count": 3,
   "id": "88ef668a",
   "metadata": {},
   "outputs": [],
   "source": [
    "from load_data import load_data\n",
    "from transform_data import handle_class_imbalance, scale_numerical_features, encode_categorical_features\n",
    "import pandas as pd\n",
    "import seaborn as sns\n",
    "import matplotlib.pyplot as plt"
   ]
  },
  {
   "cell_type": "code",
   "execution_count": 4,
   "id": "c8fe28f6",
   "metadata": {},
   "outputs": [
    {
     "name": "stdout",
     "output_type": "stream",
     "text": [
      "Data loaded successfully from C:\\Users\\ABC\\Desktop\\10Acadamy\\week_8_and_9\\Improved-detection-of-fraud-cases-for-e-commerce-and-bank-transactions\\data\\merged_fraud_data.csv\n"
     ]
    }
   ],
   "source": [
    "\n",
    "\n",
    "fraud_data_path = r'C:\\Users\\ABC\\Desktop\\10Acadamy\\week_8_and_9\\Improved-detection-of-fraud-cases-for-e-commerce-and-bank-transactions\\data\\merged_fraud_data.csv'\n",
    "\n",
    "fraud_data = load_data(fraud_data_path)"
   ]
  },
  {
   "cell_type": "code",
   "execution_count": 5,
   "id": "a13521f6",
   "metadata": {},
   "outputs": [
    {
     "name": "stdout",
     "output_type": "stream",
     "text": [
      "<class 'pandas.core.frame.DataFrame'>\n",
      "RangeIndex: 151112 entries, 0 to 151111\n",
      "Data columns (total 16 columns):\n",
      " #   Column             Non-Null Count   Dtype  \n",
      "---  ------             --------------   -----  \n",
      " 0   user_id            151112 non-null  int64  \n",
      " 1   signup_time        151112 non-null  object \n",
      " 2   purchase_time      151112 non-null  object \n",
      " 3   purchase_value     151112 non-null  int64  \n",
      " 4   device_id          151112 non-null  object \n",
      " 5   source             151112 non-null  object \n",
      " 6   browser            151112 non-null  object \n",
      " 7   sex                151112 non-null  object \n",
      " 8   age                151112 non-null  int64  \n",
      " 9   ip_address         151112 non-null  float64\n",
      " 10  class              151112 non-null  int64  \n",
      " 11  hour               151112 non-null  int64  \n",
      " 12  day_of_week        151112 non-null  int64  \n",
      " 13  time_since_signup  151112 non-null  float64\n",
      " 14  ip_int             151112 non-null  int64  \n",
      " 15  country            151112 non-null  object \n",
      "dtypes: float64(2), int64(7), object(7)\n",
      "memory usage: 18.4+ MB\n"
     ]
    }
   ],
   "source": [
    "fraud_data.info()"
   ]
  },
  {
   "cell_type": "code",
   "execution_count": null,
   "id": "9ea8eabe",
   "metadata": {},
   "outputs": [
    {
     "name": "stdout",
     "output_type": "stream",
     "text": [
      "Before SMOTE: {0: 136961, 1: 14151}\n",
      "After SMOTE: {0: 136961, 1: 136961}\n"
     ]
    }
   ],
   "source": [
    "# Step 1: Define target and drop it from features\n",
    "X = fraud_data.drop(columns=['class'])\n",
    "y = fraud_data['class']\n",
    "\n",
    "# Step 2: Drop non-usable or ID/date columns\n",
    "X = X.drop(columns=['purchase_time', 'signup_time', 'user_id', 'device_id', 'ip_address', 'ip_int'])\n",
    "\n",
    "# Step 3: Scale numerical features\n",
    "numeric_cols = ['purchase_value', 'age', 'time_since_signup']\n",
    "X = scale_numerical_features(X, numeric_cols)\n",
    "\n",
    "# Step 4: Encode categorical features\n",
    "cat_cols = ['sex', 'source', 'browser', 'country']\n",
    "X = encode_categorical_features(X, cat_cols)\n",
    "\n",
    "# Step 5: Split BEFORE SMOTE\n",
    "from sklearn.model_selection import train_test_split\n",
    "X_train, X_test, y_train, y_test = train_test_split(\n",
    "    X, y, stratify=y, test_size=0.2, random_state=42\n",
    ")\n",
    "\n",
    "# Step 6: Apply SMOTE ONLY on training data\n",
    "X_train_resampled, y_train_resampled = handle_class_imbalance(X_train, y_train)\n",
    "\n"
   ]
  }
 ],
 "metadata": {
  "kernelspec": {
   "display_name": "env",
   "language": "python",
   "name": "python3"
  },
  "language_info": {
   "codemirror_mode": {
    "name": "ipython",
    "version": 3
   },
   "file_extension": ".py",
   "mimetype": "text/x-python",
   "name": "python",
   "nbconvert_exporter": "python",
   "pygments_lexer": "ipython3",
   "version": "3.13.2"
  }
 },
 "nbformat": 4,
 "nbformat_minor": 5
}
