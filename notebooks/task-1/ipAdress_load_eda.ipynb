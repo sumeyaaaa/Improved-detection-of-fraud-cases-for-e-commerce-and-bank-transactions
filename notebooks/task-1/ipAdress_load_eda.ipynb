{
 "cells": [
  {
   "cell_type": "code",
   "execution_count": null,
   "id": "75e0981f",
   "metadata": {},
   "outputs": [],
   "source": []
  },
  {
   "cell_type": "code",
   "execution_count": 1,
   "id": "48803f7c",
   "metadata": {},
   "outputs": [],
   "source": [
    "import sys\n",
    "import os\n",
    "\n",
    "# Navigate up two levels from notebook to get to project root\n",
    "notebook_dir = os.path.dirname(os.path.abspath(\"__file__\"))\n",
    "src_path = os.path.abspath(os.path.join(notebook_dir, \"../../src\"))\n",
    "\n",
    "if src_path not in sys.path:\n",
    "    sys.path.append(src_path)\n",
    "\n"
   ]
  },
  {
   "cell_type": "code",
   "execution_count": 2,
   "id": "c4345239",
   "metadata": {},
   "outputs": [],
   "source": [
    "from load_data import load_data\n",
    "from eda import plot_distributions,plot_boxplots_by_class, plot_countplots_by_class\n",
    "import pandas as pd\n",
    "import seaborn as sns\n",
    "import matplotlib.pyplot as plt"
   ]
  },
  {
   "cell_type": "code",
   "execution_count": 3,
   "id": "76293a99",
   "metadata": {},
   "outputs": [
    {
     "name": "stdout",
     "output_type": "stream",
     "text": [
      "Data loaded successfully from C:\\Users\\ABC\\Desktop\\10Acadamy\\week_8_and_9\\Improved-detection-of-fraud-cases-for-e-commerce-and-bank-transactions\\data\\IpAddress_to_Country.csv\n"
     ]
    }
   ],
   "source": [
    "\n",
    "\n",
    "ipAdress_path = r'C:\\Users\\ABC\\Desktop\\10Acadamy\\week_8_and_9\\Improved-detection-of-fraud-cases-for-e-commerce-and-bank-transactions\\data\\IpAddress_to_Country.csv'\n",
    "\n",
    "ipAdress_data = load_data(ipAdress_path)\n"
   ]
  },
  {
   "cell_type": "code",
   "execution_count": 4,
   "id": "51dd32d4",
   "metadata": {},
   "outputs": [
    {
     "data": {
      "text/html": [
       "<div>\n",
       "<style scoped>\n",
       "    .dataframe tbody tr th:only-of-type {\n",
       "        vertical-align: middle;\n",
       "    }\n",
       "\n",
       "    .dataframe tbody tr th {\n",
       "        vertical-align: top;\n",
       "    }\n",
       "\n",
       "    .dataframe thead th {\n",
       "        text-align: right;\n",
       "    }\n",
       "</style>\n",
       "<table border=\"1\" class=\"dataframe\">\n",
       "  <thead>\n",
       "    <tr style=\"text-align: right;\">\n",
       "      <th></th>\n",
       "      <th>lower_bound_ip_address</th>\n",
       "      <th>upper_bound_ip_address</th>\n",
       "      <th>country</th>\n",
       "    </tr>\n",
       "  </thead>\n",
       "  <tbody>\n",
       "    <tr>\n",
       "      <th>0</th>\n",
       "      <td>1.677722e+07</td>\n",
       "      <td>16777471</td>\n",
       "      <td>Australia</td>\n",
       "    </tr>\n",
       "    <tr>\n",
       "      <th>1</th>\n",
       "      <td>1.677747e+07</td>\n",
       "      <td>16777727</td>\n",
       "      <td>China</td>\n",
       "    </tr>\n",
       "    <tr>\n",
       "      <th>2</th>\n",
       "      <td>1.677773e+07</td>\n",
       "      <td>16778239</td>\n",
       "      <td>China</td>\n",
       "    </tr>\n",
       "    <tr>\n",
       "      <th>3</th>\n",
       "      <td>1.677824e+07</td>\n",
       "      <td>16779263</td>\n",
       "      <td>Australia</td>\n",
       "    </tr>\n",
       "    <tr>\n",
       "      <th>4</th>\n",
       "      <td>1.677926e+07</td>\n",
       "      <td>16781311</td>\n",
       "      <td>China</td>\n",
       "    </tr>\n",
       "    <tr>\n",
       "      <th>...</th>\n",
       "      <td>...</td>\n",
       "      <td>...</td>\n",
       "      <td>...</td>\n",
       "    </tr>\n",
       "    <tr>\n",
       "      <th>138841</th>\n",
       "      <td>3.758092e+09</td>\n",
       "      <td>3758093311</td>\n",
       "      <td>Hong Kong</td>\n",
       "    </tr>\n",
       "    <tr>\n",
       "      <th>138842</th>\n",
       "      <td>3.758093e+09</td>\n",
       "      <td>3758094335</td>\n",
       "      <td>India</td>\n",
       "    </tr>\n",
       "    <tr>\n",
       "      <th>138843</th>\n",
       "      <td>3.758095e+09</td>\n",
       "      <td>3758095871</td>\n",
       "      <td>China</td>\n",
       "    </tr>\n",
       "    <tr>\n",
       "      <th>138844</th>\n",
       "      <td>3.758096e+09</td>\n",
       "      <td>3758096127</td>\n",
       "      <td>Singapore</td>\n",
       "    </tr>\n",
       "    <tr>\n",
       "      <th>138845</th>\n",
       "      <td>3.758096e+09</td>\n",
       "      <td>3758096383</td>\n",
       "      <td>Australia</td>\n",
       "    </tr>\n",
       "  </tbody>\n",
       "</table>\n",
       "<p>138846 rows × 3 columns</p>\n",
       "</div>"
      ],
      "text/plain": [
       "        lower_bound_ip_address  upper_bound_ip_address    country\n",
       "0                 1.677722e+07                16777471  Australia\n",
       "1                 1.677747e+07                16777727      China\n",
       "2                 1.677773e+07                16778239      China\n",
       "3                 1.677824e+07                16779263  Australia\n",
       "4                 1.677926e+07                16781311      China\n",
       "...                        ...                     ...        ...\n",
       "138841            3.758092e+09              3758093311  Hong Kong\n",
       "138842            3.758093e+09              3758094335      India\n",
       "138843            3.758095e+09              3758095871      China\n",
       "138844            3.758096e+09              3758096127  Singapore\n",
       "138845            3.758096e+09              3758096383  Australia\n",
       "\n",
       "[138846 rows x 3 columns]"
      ]
     },
     "execution_count": 4,
     "metadata": {},
     "output_type": "execute_result"
    }
   ],
   "source": [
    "ipAdress_data"
   ]
  },
  {
   "cell_type": "code",
   "execution_count": 5,
   "id": "fbbdcf18",
   "metadata": {},
   "outputs": [
    {
     "data": {
      "text/html": [
       "<div>\n",
       "<style scoped>\n",
       "    .dataframe tbody tr th:only-of-type {\n",
       "        vertical-align: middle;\n",
       "    }\n",
       "\n",
       "    .dataframe tbody tr th {\n",
       "        vertical-align: top;\n",
       "    }\n",
       "\n",
       "    .dataframe thead th {\n",
       "        text-align: right;\n",
       "    }\n",
       "</style>\n",
       "<table border=\"1\" class=\"dataframe\">\n",
       "  <thead>\n",
       "    <tr style=\"text-align: right;\">\n",
       "      <th></th>\n",
       "      <th>lower_bound_ip_address</th>\n",
       "      <th>upper_bound_ip_address</th>\n",
       "    </tr>\n",
       "  </thead>\n",
       "  <tbody>\n",
       "    <tr>\n",
       "      <th>count</th>\n",
       "      <td>1.388460e+05</td>\n",
       "      <td>1.388460e+05</td>\n",
       "    </tr>\n",
       "    <tr>\n",
       "      <th>mean</th>\n",
       "      <td>2.724532e+09</td>\n",
       "      <td>2.724557e+09</td>\n",
       "    </tr>\n",
       "    <tr>\n",
       "      <th>std</th>\n",
       "      <td>8.975215e+08</td>\n",
       "      <td>8.974979e+08</td>\n",
       "    </tr>\n",
       "    <tr>\n",
       "      <th>min</th>\n",
       "      <td>1.677722e+07</td>\n",
       "      <td>1.677747e+07</td>\n",
       "    </tr>\n",
       "    <tr>\n",
       "      <th>25%</th>\n",
       "      <td>1.919930e+09</td>\n",
       "      <td>1.920008e+09</td>\n",
       "    </tr>\n",
       "    <tr>\n",
       "      <th>50%</th>\n",
       "      <td>3.230887e+09</td>\n",
       "      <td>3.230888e+09</td>\n",
       "    </tr>\n",
       "    <tr>\n",
       "      <th>75%</th>\n",
       "      <td>3.350465e+09</td>\n",
       "      <td>3.350466e+09</td>\n",
       "    </tr>\n",
       "    <tr>\n",
       "      <th>max</th>\n",
       "      <td>3.758096e+09</td>\n",
       "      <td>3.758096e+09</td>\n",
       "    </tr>\n",
       "  </tbody>\n",
       "</table>\n",
       "</div>"
      ],
      "text/plain": [
       "       lower_bound_ip_address  upper_bound_ip_address\n",
       "count            1.388460e+05            1.388460e+05\n",
       "mean             2.724532e+09            2.724557e+09\n",
       "std              8.975215e+08            8.974979e+08\n",
       "min              1.677722e+07            1.677747e+07\n",
       "25%              1.919930e+09            1.920008e+09\n",
       "50%              3.230887e+09            3.230888e+09\n",
       "75%              3.350465e+09            3.350466e+09\n",
       "max              3.758096e+09            3.758096e+09"
      ]
     },
     "execution_count": 5,
     "metadata": {},
     "output_type": "execute_result"
    }
   ],
   "source": [
    "ipAdress_data.describe()"
   ]
  },
  {
   "cell_type": "code",
   "execution_count": 6,
   "id": "335e6a48",
   "metadata": {},
   "outputs": [
    {
     "name": "stdout",
     "output_type": "stream",
     "text": [
      "<class 'pandas.core.frame.DataFrame'>\n",
      "RangeIndex: 138846 entries, 0 to 138845\n",
      "Data columns (total 3 columns):\n",
      " #   Column                  Non-Null Count   Dtype  \n",
      "---  ------                  --------------   -----  \n",
      " 0   lower_bound_ip_address  138846 non-null  float64\n",
      " 1   upper_bound_ip_address  138846 non-null  int64  \n",
      " 2   country                 138846 non-null  object \n",
      "dtypes: float64(1), int64(1), object(1)\n",
      "memory usage: 3.2+ MB\n"
     ]
    }
   ],
   "source": [
    "ipAdress_data.info()"
   ]
  },
  {
   "cell_type": "code",
   "execution_count": 8,
   "id": "4b50697d",
   "metadata": {},
   "outputs": [
    {
     "data": {
      "text/plain": [
       "lower_bound_ip_address    0\n",
       "upper_bound_ip_address    0\n",
       "country                   0\n",
       "dtype: int64"
      ]
     },
     "execution_count": 8,
     "metadata": {},
     "output_type": "execute_result"
    }
   ],
   "source": [
    "ipAdress_data.isnull().sum()"
   ]
  },
  {
   "cell_type": "code",
   "execution_count": 10,
   "id": "b049cf58",
   "metadata": {},
   "outputs": [
    {
     "data": {
      "text/plain": [
       "array(['Australia', 'China', 'Japan', 'Thailand', 'India', 'Malaysia',\n",
       "       'Korea Republic of', 'Hong Kong',\n",
       "       'Taiwan; Republic of China (ROC)', 'Philippines', 'Viet Nam',\n",
       "       'France', 'European Union', 'United Kingdom', 'Italy',\n",
       "       'United Arab Emirates', 'Israel', 'Ukraine', 'Russian Federation',\n",
       "       'Sweden', 'Kazakhstan', 'Portugal', 'Greece', 'Saudi Arabia',\n",
       "       'Denmark', 'Spain', 'Iran (ISLAMIC Republic Of)', 'Norway',\n",
       "       'Germany', 'United States', 'Syrian Arab Republic', 'Cyprus',\n",
       "       'Czech Republic', 'Switzerland', 'Iraq', 'Netherlands', 'Turkey',\n",
       "       'Romania', 'Lebanon', 'Hungary', 'Georgia', 'Azerbaijan',\n",
       "       'Austria', 'Palestinian Territory Occupied', 'Lithuania', 'Oman',\n",
       "       'Serbia', 'Finland', 'Belgium', 'Bulgaria', 'Slovenia',\n",
       "       'Moldova Republic of', 'Macedonia', 'Estonia', 'Liechtenstein',\n",
       "       'Croatia (LOCAL Name: Hrvatska)', 'Poland',\n",
       "       'Bosnia and Herzegowina', 'Latvia', 'Jordan', 'Kyrgyzstan',\n",
       "       'Ireland', 'Libyan Arab Jamahiriya', 'Armenia', 'Yemen', 'Belarus',\n",
       "       'Gibraltar', 'Luxembourg', 'Slovakia (SLOVAK Republic)', 'Malta',\n",
       "       'New Zealand', 'Singapore', 'Indonesia', 'Nepal',\n",
       "       'Papua New Guinea', 'Pakistan', 'Canada', 'Barbados',\n",
       "       'Puerto Rico', 'Bahamas', 'Saint Vincent and The Grenadines',\n",
       "       'Argentina', 'Bangladesh', 'Tokelau', 'Cambodia', 'Macau',\n",
       "       'Maldives', 'Afghanistan', 'New Caledonia', 'Fiji', 'Mongolia',\n",
       "       'Wallis and Futuna Islands', 'Qatar', 'Iceland', 'Albania',\n",
       "       'Sierra Leone', 'Uzbekistan', 'Jersey', 'San Marino', 'Kuwait',\n",
       "       'Montenegro', 'Tajikistan', 'Bahrain', 'South Africa', 'Egypt',\n",
       "       'Zimbabwe', 'Liberia', 'Kenya', 'Ghana', 'Nigeria',\n",
       "       'Tanzania United Republic of', 'Zambia', 'Madagascar', 'Angola',\n",
       "       'Namibia', \"Cote D'ivoire\", 'Sudan', 'Cameroon', 'Malawi', 'Gabon',\n",
       "       'Mali', 'Benin', 'Chad', 'Botswana', 'Cape Verde', 'Rwanda',\n",
       "       'Congo', 'Uganda', 'Mozambique', 'Gambia', 'Lesotho', 'Mauritius',\n",
       "       'Morocco', 'Algeria', 'Guinea',\n",
       "       'Congo The Democratic Republic of The', 'Swaziland',\n",
       "       'Burkina Faso', 'Somalia', 'Niger', 'Central African Republic',\n",
       "       'Togo', 'South Sudan', 'Burundi', 'Equatorial Guinea',\n",
       "       'Seychelles', 'Senegal', 'Mauritania', 'Djibouti', 'Reunion',\n",
       "       'Tunisia', 'Mayotte', 'Greenland', 'Holy See (VATICAN City State)',\n",
       "       'Virgin Islands (BRITISH)', 'Faroe Islands', 'Guernsey', 'Guam',\n",
       "       'Niue', 'Myanmar', 'Brunei Darussalam', 'Sri Lanka',\n",
       "       'Cayman Islands', 'Jamaica', 'Trinidad and Tobago',\n",
       "       'Dominican Republic', 'Bermuda', 'Turks and Caicos Islands',\n",
       "       'Virgin Islands (U.S.)', 'Colombia', 'Antigua and Barbuda',\n",
       "       'St. Pierre and Miquelon', 'Saint Martin', 'Grenada',\n",
       "       'Isle of Man', 'Monaco', 'Andorra', 'Turkmenistan', 'Martinique',\n",
       "       \"Lao People's Democratic Republic\", 'Northern Mariana Islands',\n",
       "       'Solomon Islands', 'French Polynesia', 'Vanuatu', 'Bhutan',\n",
       "       'Samoa', 'Nauru', 'Kiribati', 'Palau', 'Tonga', 'Dominica',\n",
       "       'Anguilla', 'Guadeloupe', 'Marshall Islands',\n",
       "       'Micronesia Federated States of', 'Venezuela', 'Bolivia', 'Brazil',\n",
       "       'Costa Rica', 'Chile', 'Mexico', 'Uruguay', 'Paraguay', 'Curacao',\n",
       "       'Belize', 'Honduras', 'Panama', 'El Salvador', 'Sint Maarten',\n",
       "       'Peru', 'Haiti', 'Cuba', 'Nicaragua', 'Ecuador',\n",
       "       'Bonaire; Sint Eustatius; Saba', 'French Guiana', 'Guatemala',\n",
       "       \"Korea Democratic People's Republic of\", 'Timor-leste', 'Guyana',\n",
       "       'Suriname', 'Aruba', 'Guinea-bissau', 'Eritrea', 'Ethiopia',\n",
       "       'Sao Tome and Principe', 'Comoros', 'Saint Kitts and Nevis',\n",
       "       'Montserrat', 'Tuvalu', 'British Indian Ocean Territory',\n",
       "       'Cook Islands', 'American Samoa', 'Norfolk Island', 'Saint Lucia'],\n",
       "      dtype=object)"
      ]
     },
     "execution_count": 10,
     "metadata": {},
     "output_type": "execute_result"
    }
   ],
   "source": [
    "value = ipAdress_data['country'].unique()\n",
    "value"
   ]
  },
  {
   "cell_type": "code",
   "execution_count": 14,
   "id": "245dea58",
   "metadata": {},
   "outputs": [
    {
     "data": {
      "text/plain": [
       "country\n",
       "United States         46868\n",
       "Canada                 6989\n",
       "Russian Federation     6739\n",
       "Australia              6316\n",
       "Germany                5999\n",
       "United Kingdom         5401\n",
       "Brazil                 4885\n",
       "China                  3725\n",
       "Poland                 3042\n",
       "Japan                  3005\n",
       "Name: count, dtype: int64"
      ]
     },
     "execution_count": 14,
     "metadata": {},
     "output_type": "execute_result"
    }
   ],
   "source": [
    "ipAdress_data['country'].value_counts().head(10)\n"
   ]
  },
  {
   "cell_type": "code",
   "execution_count": 15,
   "id": "2f57942b",
   "metadata": {},
   "outputs": [
    {
     "data": {
      "image/png": "[encoded data removed]",
      "text/plain": [
       "<Figure size 1200x400 with 1 Axes>"
      ]
     },
     "metadata": {},
     "output_type": "display_data"
    }
   ],
   "source": [
    "plot_distributions(\n",
    "     ipAdress_data,\n",
    "    categorical_columns=['country']\n",
    ")"
   ]
  }
 ],
 "metadata": {
  "kernelspec": {
   "display_name": "env",
   "language": "python",
   "name": "python3"
  },
  "language_info": {
   "codemirror_mode": {
    "name": "ipython",
    "version": 3
   },
   "file_extension": ".py",
   "mimetype": "text/x-python",
   "name": "python",
   "nbconvert_exporter": "python",
   "pygments_lexer": "ipython3",
   "version": "3.13.2"
  }
 },
 "nbformat": 4,
 "nbformat_minor": 5
}
